{
 "cells": [
  {
   "cell_type": "code",
   "execution_count": 1,
   "id": "1bebeab9-48e8-4ebb-aa17-a672034c7685",
   "metadata": {},
   "outputs": [],
   "source": [
    "import ray\n",
    "import random"
   ]
  },
  {
   "cell_type": "code",
   "execution_count": 2,
   "id": "49984829-0250-4a85-8f0a-5ccee98dc663",
   "metadata": {},
   "outputs": [
    {
     "name": "stderr",
     "output_type": "stream",
     "text": [
      "2025-04-22 05:36:17,954\tINFO worker.py:1429 -- Using address ray://192.168.122.10:10001 set in the environment variable RAY_ADDRESS\n",
      "SIGTERM handler is not set because current thread is not the main thread.\n"
     ]
    },
    {
     "name": "stdout",
     "output_type": "stream",
     "text": [
      "Estimated π = 3.14182\n"
     ]
    }
   ],
   "source": [
    "@ray.remote\n",
    "def estimate_pi(num_samples):\n",
    "    inside = 0\n",
    "    for _ in range(num_samples):\n",
    "        x, y = random.random(), random.random()\n",
    "        if x * x + y * y <= 1:\n",
    "            inside += 1\n",
    "    return inside\n",
    "\n",
    "samples_per_worker = 1_000_000\n",
    "futures = [estimate_pi.remote(samples_per_worker) for _ in range(4)]\n",
    "total_inside = sum(ray.get(futures))\n",
    "pi_estimate = (4 * total_inside) / (samples_per_worker * 4)\n",
    "print(f\"Estimated π = {pi_estimate}\")\n"
   ]
  },
  {
   "cell_type": "code",
   "execution_count": null,
   "id": "f5ba1a49-fafa-4fe0-9fae-ae5913471b04",
   "metadata": {},
   "outputs": [],
   "source": []
  }
 ],
 "metadata": {
  "kernelspec": {
   "display_name": "Python 3 (ipykernel)",
   "language": "python",
   "name": "python3"
  },
  "language_info": {
   "codemirror_mode": {
    "name": "ipython",
    "version": 3
   },
   "file_extension": ".py",
   "mimetype": "text/x-python",
   "name": "python",
   "nbconvert_exporter": "python",
   "pygments_lexer": "ipython3",
   "version": "3.10.14"
  }
 },
 "nbformat": 4,
 "nbformat_minor": 5
}
