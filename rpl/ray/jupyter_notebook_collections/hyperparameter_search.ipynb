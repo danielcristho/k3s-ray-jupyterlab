{
 "cells": [
  {
   "cell_type": "code",
   "execution_count": 1,
   "id": "51363fc2-0f83-41e9-88d3-e2170e50dc71",
   "metadata": {},
   "outputs": [],
   "source": [
    "import ray"
   ]
  },
  {
   "cell_type": "code",
   "execution_count": 2,
   "id": "386f5ec3-7eb9-411c-9e0d-a43aa5407853",
   "metadata": {},
   "outputs": [
    {
     "name": "stderr",
     "output_type": "stream",
     "text": [
      "2025-04-22 05:38:39,672\tINFO worker.py:1429 -- Using address ray://192.168.122.10:10001 set in the environment variable RAY_ADDRESS\n"
     ]
    },
    {
     "name": "stdout",
     "output_type": "stream",
     "text": [
      "Best x: 3.0 with loss: 0.0\n"
     ]
    }
   ],
   "source": [
    "@ray.remote\n",
    "def evaluate_model(x):\n",
    "    loss = (x - 3) ** 2\n",
    "    return (x, loss)\n",
    "\n",
    "search_space = [i * 0.5 for i in range(10)]  # 0.0 to 4.5\n",
    "\n",
    "#dummy training\n",
    "results = ray.get([evaluate_model.remote(x) for x in search_space])\n",
    "best = min(results, key=lambda x: x[1])\n",
    "print(f\"Best x: {best[0]} with loss: {best[1]}\")"
   ]
  },
  {
   "cell_type": "code",
   "execution_count": null,
   "id": "a3028d59-e38d-413e-871c-53abd0d490c6",
   "metadata": {},
   "outputs": [],
   "source": []
  }
 ],
 "metadata": {
  "kernelspec": {
   "display_name": "Python 3 (ipykernel)",
   "language": "python",
   "name": "python3"
  },
  "language_info": {
   "codemirror_mode": {
    "name": "ipython",
    "version": 3
   },
   "file_extension": ".py",
   "mimetype": "text/x-python",
   "name": "python",
   "nbconvert_exporter": "python",
   "pygments_lexer": "ipython3",
   "version": "3.10.14"
  }
 },
 "nbformat": 4,
 "nbformat_minor": 5
}
