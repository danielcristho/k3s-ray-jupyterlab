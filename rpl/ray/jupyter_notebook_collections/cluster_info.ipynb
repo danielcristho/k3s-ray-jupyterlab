{
 "cells": [
  {
   "cell_type": "code",
   "execution_count": null,
   "metadata": {},
   "outputs": [],
   "source": [
    "%pip install \"ray[default, data, tune, serve, client]==2.12.0\"\n",
    "%pip install ipywidgets"
   ]
  },
  {
   "cell_type": "code",
   "execution_count": 6,
   "metadata": {},
   "outputs": [],
   "source": [
    "import ray\n",
    "import os, socket, requests"
   ]
  },
  {
   "cell_type": "code",
   "execution_count": null,
   "metadata": {},
   "outputs": [
    {
     "name": "stderr",
     "output_type": "stream",
     "text": [
      "2025-04-22 10:32:56,928\tINFO client_builder.py:244 -- Passing the following kwargs to ray.init() on the server: ignore_reinit_error, logging_level\n",
      "2025-04-22 10:32:56,960\tDEBUG worker.py:378 -- client gRPC channel state change: ChannelConnectivity.IDLE\n"
     ]
    },
    {
     "name": "stderr",
     "output_type": "stream",
     "text": [
      "2025-04-22 10:32:57,179\tDEBUG worker.py:378 -- client gRPC channel state change: ChannelConnectivity.READY\n",
      "2025-04-22 10:32:57,196\tDEBUG worker.py:818 -- Pinging server.\n"
     ]
    },
    {
     "name": "stdout",
     "output_type": "stream",
     "text": [
      "2.12.0 549c4b7694483f6bc9e519b61e6f575e13510343\n"
     ]
    },
    {
     "name": "stderr",
     "output_type": "stream",
     "text": [
      "2025-04-22 10:33:14,404\tDEBUG dataclient.py:333 -- Recoverable error in data channel.\n",
      "2025-04-22 10:33:14,456\tDEBUG dataclient.py:334 -- <_MultiThreadedRendezvous of RPC that terminated with:\n",
      "\tstatus = StatusCode.UNAVAILABLE\n",
      "\tdetails = \"Socket closed\"\n",
      "\tdebug_error_string = \"UNKNOWN:Error received from peer ipv4:192.168.122.10:10001 {created_time:\"2025-04-22T10:33:14.385279731+07:00\", grpc_status:14, grpc_message:\"Socket closed\"}\"\n",
      ">\n",
      "2025-04-22 10:33:14,472\tDEBUG worker.py:818 -- Pinging server.\n",
      "2025-04-22 10:33:14,768\tWARNING dataclient.py:403 -- Encountered connection issues in the data channel. Attempting to reconnect.\n",
      "2025-04-22 10:33:14,409\tDEBUG worker.py:378 -- client gRPC channel state change: ChannelConnectivity.IDLE\n"
     ]
    }
   ],
   "source": [
    "# init ray\n",
    "ray.init(\"ray://192.168.122.10:10001\", ignore_reinit_error=True, logging_level=\"debug\", allow_multiple=True)\n",
    "print(f\"{ray.__version__} {ray.__commit__}\")"
   ]
  },
  {
   "cell_type": "code",
   "execution_count": 8,
   "metadata": {},
   "outputs": [
    {
     "ename": "Exception",
     "evalue": "Ray Client is not connected. Please connect by calling `ray.init`.",
     "output_type": "error",
     "traceback": [
      "\u001b[0;31m---------------------------------------------------------------------------\u001b[0m",
      "\u001b[0;31mException\u001b[0m                                 Traceback (most recent call last)",
      "Cell \u001b[0;32mIn[8], line 1\u001b[0m\n\u001b[0;32m----> 1\u001b[0m resources \u001b[38;5;241m=\u001b[39m \u001b[43mray\u001b[49m\u001b[38;5;241;43m.\u001b[39;49m\u001b[43mcluster_resources\u001b[49m\u001b[43m(\u001b[49m\u001b[43m)\u001b[49m\n\u001b[1;32m      2\u001b[0m \u001b[38;5;28mprint\u001b[39m(\u001b[38;5;124m\"\u001b[39m\u001b[38;5;124mCluster Resources:\u001b[39m\u001b[38;5;124m\"\u001b[39m, resources)\n",
      "File \u001b[0;32m/mnt/nvme0n1p11/Github/ray-jupyterlab-k3s/.venv/lib/python3.10/site-packages/ray/_private/client_mode_hook.py:102\u001b[0m, in \u001b[0;36mclient_mode_hook.<locals>.wrapper\u001b[0;34m(*args, **kwargs)\u001b[0m\n\u001b[1;32m     98\u001b[0m \u001b[38;5;28;01mif\u001b[39;00m client_mode_should_convert():\n\u001b[1;32m     99\u001b[0m     \u001b[38;5;66;03m# Legacy code\u001b[39;00m\n\u001b[1;32m    100\u001b[0m     \u001b[38;5;66;03m# we only convert init function if RAY_CLIENT_MODE=1\u001b[39;00m\n\u001b[1;32m    101\u001b[0m     \u001b[38;5;28;01mif\u001b[39;00m func\u001b[38;5;241m.\u001b[39m\u001b[38;5;18m__name__\u001b[39m \u001b[38;5;241m!=\u001b[39m \u001b[38;5;124m\"\u001b[39m\u001b[38;5;124minit\u001b[39m\u001b[38;5;124m\"\u001b[39m \u001b[38;5;129;01mor\u001b[39;00m is_client_mode_enabled_by_default:\n\u001b[0;32m--> 102\u001b[0m         \u001b[38;5;28;01mreturn\u001b[39;00m \u001b[38;5;28;43mgetattr\u001b[39;49m\u001b[43m(\u001b[49m\u001b[43mray\u001b[49m\u001b[43m,\u001b[49m\u001b[43m \u001b[49m\u001b[43mfunc\u001b[49m\u001b[38;5;241;43m.\u001b[39;49m\u001b[38;5;18;43m__name__\u001b[39;49m\u001b[43m)\u001b[49m(\u001b[38;5;241m*\u001b[39margs, \u001b[38;5;241m*\u001b[39m\u001b[38;5;241m*\u001b[39mkwargs)\n\u001b[1;32m    103\u001b[0m \u001b[38;5;28;01mreturn\u001b[39;00m func(\u001b[38;5;241m*\u001b[39margs, \u001b[38;5;241m*\u001b[39m\u001b[38;5;241m*\u001b[39mkwargs)\n",
      "File \u001b[0;32m/mnt/nvme0n1p11/Github/ray-jupyterlab-k3s/.venv/lib/python3.10/site-packages/ray/util/client/__init__.py:257\u001b[0m, in \u001b[0;36mRayAPIStub.__getattr__\u001b[0;34m(self, name)\u001b[0m\n\u001b[1;32m    256\u001b[0m \u001b[38;5;28;01mdef\u001b[39;00m\u001b[38;5;250m \u001b[39m\u001b[38;5;21m__getattr__\u001b[39m(\u001b[38;5;28mself\u001b[39m, name):\n\u001b[0;32m--> 257\u001b[0m     \u001b[38;5;28;01mreturn\u001b[39;00m \u001b[38;5;28;43mself\u001b[39;49m\u001b[38;5;241;43m.\u001b[39;49m\u001b[43mget_context\u001b[49m\u001b[43m(\u001b[49m\u001b[43m)\u001b[49m\u001b[38;5;241;43m.\u001b[39;49m\u001b[38;5;21;43m__getattr__\u001b[39;49m\u001b[43m(\u001b[49m\u001b[43mname\u001b[49m\u001b[43m)\u001b[49m\n",
      "File \u001b[0;32m/mnt/nvme0n1p11/Github/ray-jupyterlab-k3s/.venv/lib/python3.10/site-packages/ray/util/client/__init__.py:158\u001b[0m, in \u001b[0;36m_ClientContext.__getattr__\u001b[0;34m(self, key)\u001b[0m\n\u001b[1;32m    156\u001b[0m     \u001b[38;5;28;01mreturn\u001b[39;00m \u001b[38;5;28;01mlambda\u001b[39;00m: \u001b[38;5;28;01mFalse\u001b[39;00m\n\u001b[1;32m    157\u001b[0m \u001b[38;5;28;01melse\u001b[39;00m:\n\u001b[0;32m--> 158\u001b[0m     \u001b[38;5;28;01mraise\u001b[39;00m \u001b[38;5;167;01mException\u001b[39;00m(\n\u001b[1;32m    159\u001b[0m         \u001b[38;5;124m\"\u001b[39m\u001b[38;5;124mRay Client is not connected. Please connect by calling `ray.init`.\u001b[39m\u001b[38;5;124m\"\u001b[39m\n\u001b[1;32m    160\u001b[0m     )\n",
      "\u001b[0;31mException\u001b[0m: Ray Client is not connected. Please connect by calling `ray.init`."
     ]
    }
   ],
   "source": [
    "resources = ray.cluster_resources()\n",
    "print(\"Cluster Resources:\", resources)"
   ]
  }
 ],
 "metadata": {
  "kernelspec": {
   "display_name": ".venv",
   "language": "python",
   "name": "python3"
  },
  "language_info": {
   "codemirror_mode": {
    "name": "ipython",
    "version": 3
   },
   "file_extension": ".py",
   "mimetype": "text/x-python",
   "name": "python",
   "nbconvert_exporter": "python",
   "pygments_lexer": "ipython3",
   "version": "3.10.14"
  }
 },
 "nbformat": 4,
 "nbformat_minor": 2
}
