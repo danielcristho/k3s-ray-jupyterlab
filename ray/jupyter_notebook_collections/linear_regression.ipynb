{
 "cells": [
  {
   "cell_type": "code",
   "execution_count": 3,
   "id": "515dc35c-f202-49a2-8570-0a783374be0a",
   "metadata": {},
   "outputs": [],
   "source": [
    "import ray\n",
    "import numpy as np"
   ]
  },
  {
   "cell_type": "code",
   "execution_count": 4,
   "id": "08622d20-6579-46b3-a922-42c6d111c798",
   "metadata": {},
   "outputs": [
    {
     "name": "stdout",
     "output_type": "stream",
     "text": [
      "Worker 0: theta = [3.022215107744724, 3.9936935021401996]\n",
      "Worker 1: theta = [3.02369572541489, 3.96849250876553]\n",
      "Worker 2: theta = [2.9741061167009124, 4.079522599840161]\n",
      "Worker 3: theta = [3.018562845007148, 3.9537214050951515]\n"
     ]
    }
   ],
   "source": [
    "@ray.remote\n",
    "def train_linear_regression(seed):\n",
    "    np.random.seed(seed)\n",
    "    X = np.random.rand(100, 1)\n",
    "    y = 4.0 * X + 3.0 + np.random.randn(100, 1) * 0.1\n",
    "\n",
    "    # Closed-form solution (Normal Equation)\n",
    "    X_b = np.c_[np.ones((100, 1)), X]\n",
    "    theta_best = np.linalg.inv(X_b.T @ X_b) @ X_b.T @ y\n",
    "    return theta_best.ravel().tolist()\n",
    "\n",
    "results = ray.get([train_linear_regression.remote(i) for i in range(4)])\n",
    "for i, res in enumerate(results):\n",
    "    print(f\"Worker {i}: theta = {res}\")\n"
   ]
  },
  {
   "cell_type": "code",
   "execution_count": null,
   "id": "0f828c10-126a-4c4c-b107-f4b7a5f41530",
   "metadata": {},
   "outputs": [],
   "source": []
  }
 ],
 "metadata": {
  "kernelspec": {
   "display_name": "Python 3 (ipykernel)",
   "language": "python",
   "name": "python3"
  },
  "language_info": {
   "codemirror_mode": {
    "name": "ipython",
    "version": 3
   },
   "file_extension": ".py",
   "mimetype": "text/x-python",
   "name": "python",
   "nbconvert_exporter": "python",
   "pygments_lexer": "ipython3",
   "version": "3.10.14"
  }
 },
 "nbformat": 4,
 "nbformat_minor": 5
}
