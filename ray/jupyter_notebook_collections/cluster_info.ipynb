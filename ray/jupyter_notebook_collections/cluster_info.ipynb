{
 "cells": [
  {
   "cell_type": "code",
   "execution_count": 3,
   "metadata": {},
   "outputs": [
    {
     "name": "stdout",
     "output_type": "stream",
     "text": [
      "Requirement already satisfied: ray[client,data,default,serve,tune]==2.12.0 in ./.venv/lib/python3.10/site-packages (2.12.0)\n",
      "Requirement already satisfied: click>=7.0 in ./.venv/lib/python3.10/site-packages (from ray[client,data,default,serve,tune]==2.12.0) (8.1.8)\n",
      "Requirement already satisfied: packaging in ./.venv/lib/python3.10/site-packages (from ray[client,data,default,serve,tune]==2.12.0) (24.2)\n",
      "Requirement already satisfied: pyyaml in ./.venv/lib/python3.10/site-packages (from ray[client,data,default,serve,tune]==2.12.0) (6.0.2)\n",
      "Requirement already satisfied: frozenlist in ./.venv/lib/python3.10/site-packages (from ray[client,data,default,serve,tune]==2.12.0) (1.5.0)\n",
      "Requirement already satisfied: protobuf!=3.19.5,>=3.15.3 in ./.venv/lib/python3.10/site-packages (from ray[client,data,default,serve,tune]==2.12.0) (5.29.3)\n",
      "Requirement already satisfied: msgpack<2.0.0,>=1.0.0 in ./.venv/lib/python3.10/site-packages (from ray[client,data,default,serve,tune]==2.12.0) (1.1.0)\n",
      "Requirement already satisfied: jsonschema in ./.venv/lib/python3.10/site-packages (from ray[client,data,default,serve,tune]==2.12.0) (4.23.0)\n",
      "Requirement already satisfied: aiosignal in ./.venv/lib/python3.10/site-packages (from ray[client,data,default,serve,tune]==2.12.0) (1.3.2)\n",
      "Requirement already satisfied: filelock in ./.venv/lib/python3.10/site-packages (from ray[client,data,default,serve,tune]==2.12.0) (3.17.0)\n",
      "Requirement already satisfied: requests in ./.venv/lib/python3.10/site-packages (from ray[client,data,default,serve,tune]==2.12.0) (2.32.3)\n",
      "Requirement already satisfied: fsspec in ./.venv/lib/python3.10/site-packages (from ray[client,data,default,serve,tune]==2.12.0) (2025.2.0)\n",
      "Requirement already satisfied: pandas in ./.venv/lib/python3.10/site-packages (from ray[client,data,default,serve,tune]==2.12.0) (2.2.3)\n",
      "Requirement already satisfied: tensorboardX>=1.9 in ./.venv/lib/python3.10/site-packages (from ray[client,data,default,serve,tune]==2.12.0) (2.6.2.2)\n",
      "Requirement already satisfied: pyarrow>=6.0.1 in ./.venv/lib/python3.10/site-packages (from ray[client,data,default,serve,tune]==2.12.0) (19.0.1)\n",
      "Requirement already satisfied: grpcio in ./.venv/lib/python3.10/site-packages (from ray[client,data,default,serve,tune]==2.12.0) (1.70.0)\n",
      "Requirement already satisfied: aiohttp-cors in ./.venv/lib/python3.10/site-packages (from ray[client,data,default,serve,tune]==2.12.0) (0.7.0)\n",
      "Requirement already satisfied: colorful in ./.venv/lib/python3.10/site-packages (from ray[client,data,default,serve,tune]==2.12.0) (0.5.6)\n",
      "Requirement already satisfied: py-spy>=0.2.0 in ./.venv/lib/python3.10/site-packages (from ray[client,data,default,serve,tune]==2.12.0) (0.4.0)\n",
      "Requirement already satisfied: opencensus in ./.venv/lib/python3.10/site-packages (from ray[client,data,default,serve,tune]==2.12.0) (0.11.4)\n",
      "Requirement already satisfied: prometheus-client>=0.7.1 in ./.venv/lib/python3.10/site-packages (from ray[client,data,default,serve,tune]==2.12.0) (0.21.1)\n",
      "Requirement already satisfied: virtualenv!=20.21.1,>=20.0.24 in ./.venv/lib/python3.10/site-packages (from ray[client,data,default,serve,tune]==2.12.0) (20.29.2)\n",
      "Requirement already satisfied: smart-open in ./.venv/lib/python3.10/site-packages (from ray[client,data,default,serve,tune]==2.12.0) (7.1.0)\n",
      "Requirement already satisfied: pydantic!=2.0.*,!=2.1.*,!=2.2.*,!=2.3.*,!=2.4.*,<3 in ./.venv/lib/python3.10/site-packages (from ray[client,data,default,serve,tune]==2.12.0) (2.10.6)\n",
      "Requirement already satisfied: aiohttp>=3.7 in ./.venv/lib/python3.10/site-packages (from ray[client,data,default,serve,tune]==2.12.0) (3.11.13)\n",
      "Requirement already satisfied: memray in ./.venv/lib/python3.10/site-packages (from ray[client,data,default,serve,tune]==2.12.0) (1.15.0)\n",
      "Requirement already satisfied: numpy>=1.20 in ./.venv/lib/python3.10/site-packages (from ray[client,data,default,serve,tune]==2.12.0) (2.0.2)\n",
      "Requirement already satisfied: fastapi in ./.venv/lib/python3.10/site-packages (from ray[client,data,default,serve,tune]==2.12.0) (0.115.8)\n",
      "Requirement already satisfied: watchfiles in ./.venv/lib/python3.10/site-packages (from ray[client,data,default,serve,tune]==2.12.0) (1.0.4)\n",
      "Requirement already satisfied: starlette in ./.venv/lib/python3.10/site-packages (from ray[client,data,default,serve,tune]==2.12.0) (0.45.3)\n",
      "Requirement already satisfied: uvicorn[standard] in ./.venv/lib/python3.10/site-packages (from ray[client,data,default,serve,tune]==2.12.0) (0.34.0)\n",
      "Requirement already satisfied: propcache>=0.2.0 in ./.venv/lib/python3.10/site-packages (from aiohttp>=3.7->ray[client,data,default,serve,tune]==2.12.0) (0.3.0)\n",
      "Requirement already satisfied: async-timeout<6.0,>=4.0 in ./.venv/lib/python3.10/site-packages (from aiohttp>=3.7->ray[client,data,default,serve,tune]==2.12.0) (5.0.1)\n",
      "Requirement already satisfied: yarl<2.0,>=1.17.0 in ./.venv/lib/python3.10/site-packages (from aiohttp>=3.7->ray[client,data,default,serve,tune]==2.12.0) (1.18.3)\n",
      "Requirement already satisfied: aiohappyeyeballs>=2.3.0 in ./.venv/lib/python3.10/site-packages (from aiohttp>=3.7->ray[client,data,default,serve,tune]==2.12.0) (2.4.6)\n",
      "Requirement already satisfied: attrs>=17.3.0 in ./.venv/lib/python3.10/site-packages (from aiohttp>=3.7->ray[client,data,default,serve,tune]==2.12.0) (25.1.0)\n",
      "Requirement already satisfied: multidict<7.0,>=4.5 in ./.venv/lib/python3.10/site-packages (from aiohttp>=3.7->ray[client,data,default,serve,tune]==2.12.0) (6.1.0)\n",
      "Requirement already satisfied: python-dateutil>=2.8.2 in ./.venv/lib/python3.10/site-packages (from pandas->ray[client,data,default,serve,tune]==2.12.0) (2.9.0.post0)\n",
      "Requirement already satisfied: pytz>=2020.1 in ./.venv/lib/python3.10/site-packages (from pandas->ray[client,data,default,serve,tune]==2.12.0) (2025.1)\n",
      "Requirement already satisfied: tzdata>=2022.7 in ./.venv/lib/python3.10/site-packages (from pandas->ray[client,data,default,serve,tune]==2.12.0) (2025.1)\n",
      "Requirement already satisfied: pydantic-core==2.27.2 in ./.venv/lib/python3.10/site-packages (from pydantic!=2.0.*,!=2.1.*,!=2.2.*,!=2.3.*,!=2.4.*,<3->ray[client,data,default,serve,tune]==2.12.0) (2.27.2)\n",
      "Requirement already satisfied: typing-extensions>=4.12.2 in ./.venv/lib/python3.10/site-packages (from pydantic!=2.0.*,!=2.1.*,!=2.2.*,!=2.3.*,!=2.4.*,<3->ray[client,data,default,serve,tune]==2.12.0) (4.12.2)\n",
      "Requirement already satisfied: annotated-types>=0.6.0 in ./.venv/lib/python3.10/site-packages (from pydantic!=2.0.*,!=2.1.*,!=2.2.*,!=2.3.*,!=2.4.*,<3->ray[client,data,default,serve,tune]==2.12.0) (0.7.0)\n",
      "Requirement already satisfied: distlib<1,>=0.3.7 in ./.venv/lib/python3.10/site-packages (from virtualenv!=20.21.1,>=20.0.24->ray[client,data,default,serve,tune]==2.12.0) (0.3.9)\n",
      "Requirement already satisfied: platformdirs<5,>=3.9.1 in ./.venv/lib/python3.10/site-packages (from virtualenv!=20.21.1,>=20.0.24->ray[client,data,default,serve,tune]==2.12.0) (4.3.6)\n",
      "Requirement already satisfied: anyio<5,>=3.6.2 in ./.venv/lib/python3.10/site-packages (from starlette->ray[client,data,default,serve,tune]==2.12.0) (4.8.0)\n",
      "Requirement already satisfied: rpds-py>=0.7.1 in ./.venv/lib/python3.10/site-packages (from jsonschema->ray[client,data,default,serve,tune]==2.12.0) (0.23.1)\n",
      "Requirement already satisfied: referencing>=0.28.4 in ./.venv/lib/python3.10/site-packages (from jsonschema->ray[client,data,default,serve,tune]==2.12.0) (0.36.2)\n",
      "Requirement already satisfied: jsonschema-specifications>=2023.03.6 in ./.venv/lib/python3.10/site-packages (from jsonschema->ray[client,data,default,serve,tune]==2.12.0) (2024.10.1)\n",
      "Requirement already satisfied: jinja2>=2.9 in ./.venv/lib/python3.10/site-packages (from memray->ray[client,data,default,serve,tune]==2.12.0) (3.1.5)\n",
      "Requirement already satisfied: textual>=0.41.0 in ./.venv/lib/python3.10/site-packages (from memray->ray[client,data,default,serve,tune]==2.12.0) (2.1.1)\n",
      "Requirement already satisfied: rich>=11.2.0 in ./.venv/lib/python3.10/site-packages (from memray->ray[client,data,default,serve,tune]==2.12.0) (13.9.4)\n",
      "Requirement already satisfied: opencensus-context>=0.1.3 in ./.venv/lib/python3.10/site-packages (from opencensus->ray[client,data,default,serve,tune]==2.12.0) (0.1.3)\n",
      "Requirement already satisfied: six~=1.16 in ./.venv/lib/python3.10/site-packages (from opencensus->ray[client,data,default,serve,tune]==2.12.0) (1.17.0)\n",
      "Requirement already satisfied: google-api-core<3.0.0,>=1.0.0 in ./.venv/lib/python3.10/site-packages (from opencensus->ray[client,data,default,serve,tune]==2.12.0) (2.24.1)\n",
      "Requirement already satisfied: urllib3<3,>=1.21.1 in ./.venv/lib/python3.10/site-packages (from requests->ray[client,data,default,serve,tune]==2.12.0) (2.3.0)\n",
      "Requirement already satisfied: idna<4,>=2.5 in ./.venv/lib/python3.10/site-packages (from requests->ray[client,data,default,serve,tune]==2.12.0) (3.10)\n",
      "Requirement already satisfied: charset-normalizer<4,>=2 in ./.venv/lib/python3.10/site-packages (from requests->ray[client,data,default,serve,tune]==2.12.0) (3.4.1)\n",
      "Requirement already satisfied: certifi>=2017.4.17 in ./.venv/lib/python3.10/site-packages (from requests->ray[client,data,default,serve,tune]==2.12.0) (2025.1.31)\n",
      "Requirement already satisfied: wrapt in ./.venv/lib/python3.10/site-packages (from smart-open->ray[client,data,default,serve,tune]==2.12.0) (1.17.2)\n",
      "Requirement already satisfied: h11>=0.8 in ./.venv/lib/python3.10/site-packages (from uvicorn[standard]->ray[client,data,default,serve,tune]==2.12.0) (0.14.0)\n",
      "Requirement already satisfied: httptools>=0.6.3 in ./.venv/lib/python3.10/site-packages (from uvicorn[standard]->ray[client,data,default,serve,tune]==2.12.0) (0.6.4)\n",
      "Requirement already satisfied: python-dotenv>=0.13 in ./.venv/lib/python3.10/site-packages (from uvicorn[standard]->ray[client,data,default,serve,tune]==2.12.0) (1.0.1)\n",
      "Requirement already satisfied: websockets>=10.4 in ./.venv/lib/python3.10/site-packages (from uvicorn[standard]->ray[client,data,default,serve,tune]==2.12.0) (15.0)\n",
      "Requirement already satisfied: uvloop!=0.15.0,!=0.15.1,>=0.14.0 in ./.venv/lib/python3.10/site-packages (from uvicorn[standard]->ray[client,data,default,serve,tune]==2.12.0) (0.21.0)\n",
      "Requirement already satisfied: sniffio>=1.1 in ./.venv/lib/python3.10/site-packages (from anyio<5,>=3.6.2->starlette->ray[client,data,default,serve,tune]==2.12.0) (1.3.1)\n",
      "Requirement already satisfied: exceptiongroup>=1.0.2 in ./.venv/lib/python3.10/site-packages (from anyio<5,>=3.6.2->starlette->ray[client,data,default,serve,tune]==2.12.0) (1.2.2)\n",
      "Requirement already satisfied: googleapis-common-protos<2.0.dev0,>=1.56.2 in ./.venv/lib/python3.10/site-packages (from google-api-core<3.0.0,>=1.0.0->opencensus->ray[client,data,default,serve,tune]==2.12.0) (1.68.0)\n",
      "Requirement already satisfied: google-auth<3.0.dev0,>=2.14.1 in ./.venv/lib/python3.10/site-packages (from google-api-core<3.0.0,>=1.0.0->opencensus->ray[client,data,default,serve,tune]==2.12.0) (2.38.0)\n",
      "Requirement already satisfied: proto-plus<2.0.0dev,>=1.22.3 in ./.venv/lib/python3.10/site-packages (from google-api-core<3.0.0,>=1.0.0->opencensus->ray[client,data,default,serve,tune]==2.12.0) (1.26.0)\n",
      "Requirement already satisfied: MarkupSafe>=2.0 in ./.venv/lib/python3.10/site-packages (from jinja2>=2.9->memray->ray[client,data,default,serve,tune]==2.12.0) (3.0.2)\n",
      "Requirement already satisfied: markdown-it-py>=2.2.0 in ./.venv/lib/python3.10/site-packages (from rich>=11.2.0->memray->ray[client,data,default,serve,tune]==2.12.0) (3.0.0)\n",
      "Requirement already satisfied: pygments<3.0.0,>=2.13.0 in ./.venv/lib/python3.10/site-packages (from rich>=11.2.0->memray->ray[client,data,default,serve,tune]==2.12.0) (2.19.1)\n",
      "Requirement already satisfied: rsa<5,>=3.1.4 in ./.venv/lib/python3.10/site-packages (from google-auth<3.0.dev0,>=2.14.1->google-api-core<3.0.0,>=1.0.0->opencensus->ray[client,data,default,serve,tune]==2.12.0) (4.9)\n",
      "Requirement already satisfied: cachetools<6.0,>=2.0.0 in ./.venv/lib/python3.10/site-packages (from google-auth<3.0.dev0,>=2.14.1->google-api-core<3.0.0,>=1.0.0->opencensus->ray[client,data,default,serve,tune]==2.12.0) (5.5.2)\n",
      "Requirement already satisfied: pyasn1-modules>=0.2.1 in ./.venv/lib/python3.10/site-packages (from google-auth<3.0.dev0,>=2.14.1->google-api-core<3.0.0,>=1.0.0->opencensus->ray[client,data,default,serve,tune]==2.12.0) (0.4.1)\n",
      "Requirement already satisfied: mdurl~=0.1 in ./.venv/lib/python3.10/site-packages (from markdown-it-py>=2.2.0->rich>=11.2.0->memray->ray[client,data,default,serve,tune]==2.12.0) (0.1.2)\n",
      "Requirement already satisfied: linkify-it-py<3,>=1 in ./.venv/lib/python3.10/site-packages (from markdown-it-py>=2.2.0->rich>=11.2.0->memray->ray[client,data,default,serve,tune]==2.12.0) (2.0.3)\n",
      "Requirement already satisfied: mdit-py-plugins in ./.venv/lib/python3.10/site-packages (from markdown-it-py>=2.2.0->rich>=11.2.0->memray->ray[client,data,default,serve,tune]==2.12.0) (0.4.2)\n",
      "Requirement already satisfied: uc-micro-py in ./.venv/lib/python3.10/site-packages (from linkify-it-py<3,>=1->markdown-it-py>=2.2.0->rich>=11.2.0->memray->ray[client,data,default,serve,tune]==2.12.0) (1.0.3)\n",
      "Requirement already satisfied: pyasn1<0.7.0,>=0.4.6 in ./.venv/lib/python3.10/site-packages (from pyasn1-modules>=0.2.1->google-auth<3.0.dev0,>=2.14.1->google-api-core<3.0.0,>=1.0.0->opencensus->ray[client,data,default,serve,tune]==2.12.0) (0.6.1)\n",
      "\n",
      "\u001b[1m[\u001b[0m\u001b[34;49mnotice\u001b[0m\u001b[1;39;49m]\u001b[0m\u001b[39;49m A new release of pip is available: \u001b[0m\u001b[31;49m23.0.1\u001b[0m\u001b[39;49m -> \u001b[0m\u001b[32;49m25.0.1\u001b[0m\n",
      "\u001b[1m[\u001b[0m\u001b[34;49mnotice\u001b[0m\u001b[1;39;49m]\u001b[0m\u001b[39;49m To update, run: \u001b[0m\u001b[32;49mpip install --upgrade pip\u001b[0m\n",
      "Note: you may need to restart the kernel to use updated packages.\n",
      "Collecting ipywidgets\n",
      "  Using cached ipywidgets-8.1.5-py3-none-any.whl (139 kB)\n",
      "Requirement already satisfied: comm>=0.1.3 in ./.venv/lib/python3.10/site-packages (from ipywidgets) (0.2.2)\n",
      "Requirement already satisfied: ipython>=6.1.0 in ./.venv/lib/python3.10/site-packages (from ipywidgets) (8.32.0)\n",
      "Collecting jupyterlab-widgets~=3.0.12\n",
      "  Using cached jupyterlab_widgets-3.0.13-py3-none-any.whl (214 kB)\n",
      "Requirement already satisfied: traitlets>=4.3.1 in ./.venv/lib/python3.10/site-packages (from ipywidgets) (5.14.3)\n",
      "Collecting widgetsnbextension~=4.0.12\n",
      "  Using cached widgetsnbextension-4.0.13-py3-none-any.whl (2.3 MB)\n",
      "Requirement already satisfied: pygments>=2.4.0 in ./.venv/lib/python3.10/site-packages (from ipython>=6.1.0->ipywidgets) (2.19.1)\n",
      "Requirement already satisfied: decorator in ./.venv/lib/python3.10/site-packages (from ipython>=6.1.0->ipywidgets) (5.2.1)\n",
      "Requirement already satisfied: exceptiongroup in ./.venv/lib/python3.10/site-packages (from ipython>=6.1.0->ipywidgets) (1.2.2)\n",
      "Requirement already satisfied: prompt_toolkit<3.1.0,>=3.0.41 in ./.venv/lib/python3.10/site-packages (from ipython>=6.1.0->ipywidgets) (3.0.50)\n",
      "Requirement already satisfied: typing_extensions>=4.6 in ./.venv/lib/python3.10/site-packages (from ipython>=6.1.0->ipywidgets) (4.12.2)\n",
      "Requirement already satisfied: jedi>=0.16 in ./.venv/lib/python3.10/site-packages (from ipython>=6.1.0->ipywidgets) (0.19.2)\n",
      "Requirement already satisfied: matplotlib-inline in ./.venv/lib/python3.10/site-packages (from ipython>=6.1.0->ipywidgets) (0.1.7)\n",
      "Requirement already satisfied: stack_data in ./.venv/lib/python3.10/site-packages (from ipython>=6.1.0->ipywidgets) (0.6.3)\n",
      "Requirement already satisfied: pexpect>4.3 in ./.venv/lib/python3.10/site-packages (from ipython>=6.1.0->ipywidgets) (4.9.0)\n",
      "Requirement already satisfied: parso<0.9.0,>=0.8.4 in ./.venv/lib/python3.10/site-packages (from jedi>=0.16->ipython>=6.1.0->ipywidgets) (0.8.4)\n",
      "Requirement already satisfied: ptyprocess>=0.5 in ./.venv/lib/python3.10/site-packages (from pexpect>4.3->ipython>=6.1.0->ipywidgets) (0.7.0)\n",
      "Requirement already satisfied: wcwidth in ./.venv/lib/python3.10/site-packages (from prompt_toolkit<3.1.0,>=3.0.41->ipython>=6.1.0->ipywidgets) (0.2.13)\n",
      "Requirement already satisfied: asttokens>=2.1.0 in ./.venv/lib/python3.10/site-packages (from stack_data->ipython>=6.1.0->ipywidgets) (3.0.0)\n",
      "Requirement already satisfied: pure-eval in ./.venv/lib/python3.10/site-packages (from stack_data->ipython>=6.1.0->ipywidgets) (0.2.3)\n",
      "Requirement already satisfied: executing>=1.2.0 in ./.venv/lib/python3.10/site-packages (from stack_data->ipython>=6.1.0->ipywidgets) (2.2.0)\n",
      "Installing collected packages: widgetsnbextension, jupyterlab-widgets, ipywidgets\n",
      "Successfully installed ipywidgets-8.1.5 jupyterlab-widgets-3.0.13 widgetsnbextension-4.0.13\n",
      "\n",
      "\u001b[1m[\u001b[0m\u001b[34;49mnotice\u001b[0m\u001b[1;39;49m]\u001b[0m\u001b[39;49m A new release of pip is available: \u001b[0m\u001b[31;49m23.0.1\u001b[0m\u001b[39;49m -> \u001b[0m\u001b[32;49m25.0.1\u001b[0m\n",
      "\u001b[1m[\u001b[0m\u001b[34;49mnotice\u001b[0m\u001b[1;39;49m]\u001b[0m\u001b[39;49m To update, run: \u001b[0m\u001b[32;49mpip install --upgrade pip\u001b[0m\n",
      "Note: you may need to restart the kernel to use updated packages.\n"
     ]
    }
   ],
   "source": [
    "%pip install \"ray[default, data, tune, serve, client]==2.12.0\"\n",
    "%pip install ipywidgets"
   ]
  },
  {
   "cell_type": "code",
   "execution_count": 6,
   "metadata": {},
   "outputs": [],
   "source": [
    "import ray\n",
    "import os, socket, requests\n",
    "from  ray import serve"
   ]
  },
  {
   "cell_type": "code",
   "execution_count": 8,
   "metadata": {},
   "outputs": [
    {
     "name": "stderr",
     "output_type": "stream",
     "text": [
      "2025-02-28 09:08:36,104\tINFO client_builder.py:244 -- Passing the following kwargs to ray.init() on the server: ignore_reinit_error, logging_level\n",
      "2025-02-28 09:08:36,115\tDEBUG worker.py:378 -- client gRPC channel state change: ChannelConnectivity.IDLE\n",
      "2025-02-28 09:08:36,325\tDEBUG worker.py:378 -- client gRPC channel state change: ChannelConnectivity.READY\n",
      "2025-02-28 09:08:36,335\tDEBUG worker.py:818 -- Pinging server.\n"
     ]
    },
    {
     "name": "stderr",
     "output_type": "stream",
     "text": [
      "SIGTERM handler is not set because current thread is not the main thread.\n"
     ]
    },
    {
     "name": "stdout",
     "output_type": "stream",
     "text": [
      "2.12.0 549c4b7694483f6bc9e519b61e6f575e13510343\n"
     ]
    },
    {
     "name": "stderr",
     "output_type": "stream",
     "text": [
      "2025-02-28 12:00:11,291\tDEBUG worker.py:378 -- client gRPC channel state change: ChannelConnectivity.IDLE\n",
      "2025-02-28 12:00:11,343\tDEBUG dataclient.py:333 -- Recoverable error in data channel.\n",
      "2025-02-28 12:00:11,454\tDEBUG dataclient.py:334 -- <_MultiThreadedRendezvous of RPC that terminated with:\n",
      "\tstatus = StatusCode.UNAVAILABLE\n",
      "\tdetails = \"Socket closed\"\n",
      "\tdebug_error_string = \"UNKNOWN:Error received from peer ipv4:192.168.122.10:10001 {created_time:\"2025-02-28T12:00:11.169969822+07:00\", grpc_status:14, grpc_message:\"Socket closed\"}\"\n",
      ">\n",
      "2025-02-28 12:00:11,510\tDEBUG worker.py:818 -- Pinging server.\n",
      "2025-02-28 12:00:11,592\tDEBUG worker.py:378 -- client gRPC channel state change: ChannelConnectivity.TRANSIENT_FAILURE\n",
      "2025-02-28 12:00:11,593\tWARNING dataclient.py:403 -- Encountered connection issues in the data channel. Attempting to reconnect.\n"
     ]
    }
   ],
   "source": [
    "# init ray\n",
    "ray.init(\"ray://192.168.122.10:10001\", ignore_reinit_error=True, logging_level=\"debug\", allow_multiple=True)\n",
    "print(f\"{ray.__version__} {ray.__commit__}\")"
   ]
  },
  {
   "cell_type": "code",
   "execution_count": 9,
   "metadata": {},
   "outputs": [
    {
     "ename": "Exception",
     "evalue": "Ray Client is not connected. Please connect by calling `ray.init`.",
     "output_type": "error",
     "traceback": [
      "\u001b[0;31m---------------------------------------------------------------------------\u001b[0m",
      "\u001b[0;31mException\u001b[0m                                 Traceback (most recent call last)",
      "Cell \u001b[0;32mIn[9], line 1\u001b[0m\n\u001b[0;32m----> 1\u001b[0m resources \u001b[38;5;241m=\u001b[39m \u001b[43mray\u001b[49m\u001b[38;5;241;43m.\u001b[39;49m\u001b[43mcluster_resources\u001b[49m\u001b[43m(\u001b[49m\u001b[43m)\u001b[49m\n\u001b[1;32m      2\u001b[0m \u001b[38;5;28mprint\u001b[39m(\u001b[38;5;124m\"\u001b[39m\u001b[38;5;124mCluster Resources:\u001b[39m\u001b[38;5;124m\"\u001b[39m, resources)\n",
      "File \u001b[0;32m~/.local/lib/python3.10/site-packages/ray/_private/client_mode_hook.py:102\u001b[0m, in \u001b[0;36mclient_mode_hook.<locals>.wrapper\u001b[0;34m(*args, **kwargs)\u001b[0m\n\u001b[1;32m     98\u001b[0m \u001b[38;5;28;01mif\u001b[39;00m client_mode_should_convert():\n\u001b[1;32m     99\u001b[0m     \u001b[38;5;66;03m# Legacy code\u001b[39;00m\n\u001b[1;32m    100\u001b[0m     \u001b[38;5;66;03m# we only convert init function if RAY_CLIENT_MODE=1\u001b[39;00m\n\u001b[1;32m    101\u001b[0m     \u001b[38;5;28;01mif\u001b[39;00m func\u001b[38;5;241m.\u001b[39m\u001b[38;5;18m__name__\u001b[39m \u001b[38;5;241m!=\u001b[39m \u001b[38;5;124m\"\u001b[39m\u001b[38;5;124minit\u001b[39m\u001b[38;5;124m\"\u001b[39m \u001b[38;5;129;01mor\u001b[39;00m is_client_mode_enabled_by_default:\n\u001b[0;32m--> 102\u001b[0m         \u001b[38;5;28;01mreturn\u001b[39;00m \u001b[38;5;28;43mgetattr\u001b[39;49m\u001b[43m(\u001b[49m\u001b[43mray\u001b[49m\u001b[43m,\u001b[49m\u001b[43m \u001b[49m\u001b[43mfunc\u001b[49m\u001b[38;5;241;43m.\u001b[39;49m\u001b[38;5;18;43m__name__\u001b[39;49m\u001b[43m)\u001b[49m(\u001b[38;5;241m*\u001b[39margs, \u001b[38;5;241m*\u001b[39m\u001b[38;5;241m*\u001b[39mkwargs)\n\u001b[1;32m    103\u001b[0m \u001b[38;5;28;01mreturn\u001b[39;00m func(\u001b[38;5;241m*\u001b[39margs, \u001b[38;5;241m*\u001b[39m\u001b[38;5;241m*\u001b[39mkwargs)\n",
      "File \u001b[0;32m~/.local/lib/python3.10/site-packages/ray/util/client/__init__.py:257\u001b[0m, in \u001b[0;36mRayAPIStub.__getattr__\u001b[0;34m(self, name)\u001b[0m\n\u001b[1;32m    256\u001b[0m \u001b[38;5;28;01mdef\u001b[39;00m\u001b[38;5;250m \u001b[39m\u001b[38;5;21m__getattr__\u001b[39m(\u001b[38;5;28mself\u001b[39m, name):\n\u001b[0;32m--> 257\u001b[0m     \u001b[38;5;28;01mreturn\u001b[39;00m \u001b[38;5;28;43mself\u001b[39;49m\u001b[38;5;241;43m.\u001b[39;49m\u001b[43mget_context\u001b[49m\u001b[43m(\u001b[49m\u001b[43m)\u001b[49m\u001b[38;5;241;43m.\u001b[39;49m\u001b[38;5;21;43m__getattr__\u001b[39;49m\u001b[43m(\u001b[49m\u001b[43mname\u001b[49m\u001b[43m)\u001b[49m\n",
      "File \u001b[0;32m~/.local/lib/python3.10/site-packages/ray/util/client/__init__.py:158\u001b[0m, in \u001b[0;36m_ClientContext.__getattr__\u001b[0;34m(self, key)\u001b[0m\n\u001b[1;32m    156\u001b[0m     \u001b[38;5;28;01mreturn\u001b[39;00m \u001b[38;5;28;01mlambda\u001b[39;00m: \u001b[38;5;28;01mFalse\u001b[39;00m\n\u001b[1;32m    157\u001b[0m \u001b[38;5;28;01melse\u001b[39;00m:\n\u001b[0;32m--> 158\u001b[0m     \u001b[38;5;28;01mraise\u001b[39;00m \u001b[38;5;167;01mException\u001b[39;00m(\n\u001b[1;32m    159\u001b[0m         \u001b[38;5;124m\"\u001b[39m\u001b[38;5;124mRay Client is not connected. Please connect by calling `ray.init`.\u001b[39m\u001b[38;5;124m\"\u001b[39m\n\u001b[1;32m    160\u001b[0m     )\n",
      "\u001b[0;31mException\u001b[0m: Ray Client is not connected. Please connect by calling `ray.init`."
     ]
    }
   ],
   "source": [
    "resources = ray.cluster_resources()\n",
    "print(\"Cluster Resources:\", resources)"
   ]
  }
 ],
 "metadata": {
  "kernelspec": {
   "display_name": "3.10.14",
   "language": "python",
   "name": "python3"
  },
  "language_info": {
   "codemirror_mode": {
    "name": "ipython",
    "version": 3
   },
   "file_extension": ".py",
   "mimetype": "text/x-python",
   "name": "python",
   "nbconvert_exporter": "python",
   "pygments_lexer": "ipython3",
   "version": "3.10.14"
  }
 },
 "nbformat": 4,
 "nbformat_minor": 2
}
