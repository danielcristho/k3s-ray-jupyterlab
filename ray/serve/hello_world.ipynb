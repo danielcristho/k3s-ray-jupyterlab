{
 "cells": [
  {
   "cell_type": "code",
   "execution_count": null,
   "metadata": {
    "vscode": {
     "languageId": "plaintext"
    }
   },
   "outputs": [],
   "source": [
    "%pip install \"ray[serve]\""
   ]
  },
  {
   "cell_type": "code",
   "execution_count": null,
   "metadata": {
    "vscode": {
     "languageId": "plaintext"
    }
   },
   "outputs": [],
   "source": [
    "import requests\n",
    "from starlette.requests import Request\n",
    "from typing import Dict\n",
    "\n",
    "from ray import serve"
   ]
  },
  {
   "cell_type": "code",
   "execution_count": null,
   "metadata": {
    "vscode": {
     "languageId": "plaintext"
    }
   },
   "outputs": [],
   "source": [
    "# 1: Define a Ray Serve application.\n",
    "@serve.deployment\n",
    "class MyModelDeployment:\n",
    "    def __init__(self, msg: str):\n",
    "        # Initialize model state: could be very large neural net weights.\n",
    "        self._msg = msg\n",
    "\n",
    "    def __call__(self, request: Request) -> Dict:\n",
    "        return {\"result\": self._msg}\n",
    "\n",
    "\n",
    "app = MyModelDeployment.bind(msg=\"Hello world!\")\n",
    "\n",
    "# 2: Deploy the application locally.\n",
    "serve.run(app, route_prefix=\"/\")\n",
    "\n",
    "# 3: Query the application and print the result.\n",
    "print(requests.get(\"http://localhost:8000/\").json())\n",
    "# {'result': 'Hello world!'}"
   ]
  }
 ],
 "metadata": {
  "language_info": {
   "name": "python"
  }
 },
 "nbformat": 4,
 "nbformat_minor": 2
}
