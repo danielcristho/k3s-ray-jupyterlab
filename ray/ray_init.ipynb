{
 "cells": [
  {
   "cell_type": "code",
   "execution_count": 1,
   "metadata": {},
   "outputs": [
    {
     "name": "stdout",
     "output_type": "stream",
     "text": [
      "Requirement already satisfied: ipywidgets in /home/danielpepuho/.local/lib/python3.10/site-packages (8.1.5)\n",
      "Requirement already satisfied: comm>=0.1.3 in /home/danielpepuho/.pyenv/versions/3.10.14/lib/python3.10/site-packages (from ipywidgets) (0.2.2)\n",
      "Requirement already satisfied: ipython>=6.1.0 in /home/danielpepuho/.pyenv/versions/3.10.14/lib/python3.10/site-packages (from ipywidgets) (8.31.0)\n",
      "Requirement already satisfied: traitlets>=4.3.1 in /home/danielpepuho/.pyenv/versions/3.10.14/lib/python3.10/site-packages (from ipywidgets) (5.14.3)\n",
      "Requirement already satisfied: widgetsnbextension~=4.0.12 in /home/danielpepuho/.local/lib/python3.10/site-packages (from ipywidgets) (4.0.13)\n",
      "Requirement already satisfied: jupyterlab-widgets~=3.0.12 in /home/danielpepuho/.local/lib/python3.10/site-packages (from ipywidgets) (3.0.13)\n",
      "Requirement already satisfied: decorator in /home/danielpepuho/.pyenv/versions/3.10.14/lib/python3.10/site-packages (from ipython>=6.1.0->ipywidgets) (5.1.1)\n",
      "Requirement already satisfied: exceptiongroup in /home/danielpepuho/.pyenv/versions/3.10.14/lib/python3.10/site-packages (from ipython>=6.1.0->ipywidgets) (1.2.2)\n",
      "Requirement already satisfied: jedi>=0.16 in /home/danielpepuho/.pyenv/versions/3.10.14/lib/python3.10/site-packages (from ipython>=6.1.0->ipywidgets) (0.19.2)\n",
      "Requirement already satisfied: matplotlib-inline in /home/danielpepuho/.pyenv/versions/3.10.14/lib/python3.10/site-packages (from ipython>=6.1.0->ipywidgets) (0.1.7)\n",
      "Requirement already satisfied: pexpect>4.3 in /home/danielpepuho/.pyenv/versions/3.10.14/lib/python3.10/site-packages (from ipython>=6.1.0->ipywidgets) (4.9.0)\n",
      "Requirement already satisfied: prompt_toolkit<3.1.0,>=3.0.41 in /home/danielpepuho/.pyenv/versions/3.10.14/lib/python3.10/site-packages (from ipython>=6.1.0->ipywidgets) (3.0.48)\n",
      "Requirement already satisfied: pygments>=2.4.0 in /home/danielpepuho/.pyenv/versions/3.10.14/lib/python3.10/site-packages (from ipython>=6.1.0->ipywidgets) (2.19.1)\n",
      "Requirement already satisfied: stack_data in /home/danielpepuho/.pyenv/versions/3.10.14/lib/python3.10/site-packages (from ipython>=6.1.0->ipywidgets) (0.6.3)\n",
      "Requirement already satisfied: typing_extensions>=4.6 in /home/danielpepuho/.pyenv/versions/3.10.14/lib/python3.10/site-packages (from ipython>=6.1.0->ipywidgets) (4.12.2)\n",
      "Requirement already satisfied: parso<0.9.0,>=0.8.4 in /home/danielpepuho/.pyenv/versions/3.10.14/lib/python3.10/site-packages (from jedi>=0.16->ipython>=6.1.0->ipywidgets) (0.8.4)\n",
      "Requirement already satisfied: ptyprocess>=0.5 in /home/danielpepuho/.pyenv/versions/3.10.14/lib/python3.10/site-packages (from pexpect>4.3->ipython>=6.1.0->ipywidgets) (0.7.0)\n",
      "Requirement already satisfied: wcwidth in /home/danielpepuho/.pyenv/versions/3.10.14/lib/python3.10/site-packages (from prompt_toolkit<3.1.0,>=3.0.41->ipython>=6.1.0->ipywidgets) (0.2.13)\n",
      "Requirement already satisfied: executing>=1.2.0 in /home/danielpepuho/.pyenv/versions/3.10.14/lib/python3.10/site-packages (from stack_data->ipython>=6.1.0->ipywidgets) (2.1.0)\n",
      "Requirement already satisfied: asttokens>=2.1.0 in /home/danielpepuho/.pyenv/versions/3.10.14/lib/python3.10/site-packages (from stack_data->ipython>=6.1.0->ipywidgets) (3.0.0)\n",
      "Requirement already satisfied: pure-eval in /home/danielpepuho/.pyenv/versions/3.10.14/lib/python3.10/site-packages (from stack_data->ipython>=6.1.0->ipywidgets) (0.2.3)\n",
      "\n",
      "\u001b[1m[\u001b[0m\u001b[34;49mnotice\u001b[0m\u001b[1;39;49m]\u001b[0m\u001b[39;49m A new release of pip is available: \u001b[0m\u001b[31;49m24.2\u001b[0m\u001b[39;49m -> \u001b[0m\u001b[32;49m25.0.1\u001b[0m\n",
      "\u001b[1m[\u001b[0m\u001b[34;49mnotice\u001b[0m\u001b[1;39;49m]\u001b[0m\u001b[39;49m To update, run: \u001b[0m\u001b[32;49mpip install --upgrade pip\u001b[0m\n",
      "Note: you may need to restart the kernel to use updated packages.\n"
     ]
    }
   ],
   "source": [
    "%pip install -U ipywidgets"
   ]
  },
  {
   "cell_type": "code",
   "execution_count": null,
   "metadata": {},
   "outputs": [
    {
     "name": "stderr",
     "output_type": "stream",
     "text": [
      "SIGTERM handler is not set because current thread is not the main thread.\n"
     ]
    },
    {
     "name": "stdout",
     "output_type": "stream",
     "text": [
      "Iteration 0\n",
      "Counter({('raycluster-kuberay-workergroup-worker-62mcl', 'raycluster-kuberay-workergroup-worker-62mcl'): 100})\n",
      "Iteration 1\n",
      "Counter({('raycluster-kuberay-workergroup-worker-62mcl', 'raycluster-kuberay-workergroup-worker-62mcl'): 100})\n",
      "Iteration 2\n",
      "Counter({('raycluster-kuberay-workergroup-worker-62mcl', 'raycluster-kuberay-workergroup-worker-62mcl'): 100})\n",
      "Iteration 3\n",
      "Counter({('raycluster-kuberay-workergroup-worker-62mcl', 'raycluster-kuberay-workergroup-worker-62mcl'): 100})\n",
      "Iteration 4\n",
      "Counter({('raycluster-kuberay-workergroup-worker-62mcl', 'raycluster-kuberay-workergroup-worker-62mcl'): 100})\n",
      "Iteration 5\n",
      "Counter({('raycluster-kuberay-workergroup-worker-62mcl', 'raycluster-kuberay-workergroup-worker-62mcl'): 100})\n",
      "Iteration 6\n",
      "Counter({('raycluster-kuberay-workergroup-worker-62mcl', 'raycluster-kuberay-workergroup-worker-62mcl'): 100})\n",
      "Iteration 7\n",
      "Counter({('raycluster-kuberay-workergroup-worker-62mcl', 'raycluster-kuberay-workergroup-worker-62mcl'): 100})\n",
      "Iteration 8\n",
      "Counter({('raycluster-kuberay-workergroup-worker-62mcl', 'raycluster-kuberay-workergroup-worker-62mcl'): 100})\n",
      "Iteration 9\n",
      "Counter({('raycluster-kuberay-workergroup-worker-62mcl', 'raycluster-kuberay-workergroup-worker-62mcl'): 100})\n",
      "Success!\n"
     ]
    },
    {
     "name": "stderr",
     "output_type": "stream",
     "text": [
      "Log channel is reconnecting. Logs produced while the connection was down can be found on the head node of the cluster in `ray_client_server_[port].out`\n",
      "2025-02-28 12:00:11,209\tWARNING dataclient.py:403 -- Encountered connection issues in the data channel. Attempting to reconnect.\n"
     ]
    }
   ],
   "source": [
    "from collections import Counter\n",
    "import sys\n",
    "import time\n",
    "import ray\n",
    "\"\"\" Run this script locally to execute a Ray program on your Ray cluster on\n",
    "Kubernetes.\n",
    "\n",
    "Before running this script, you must port-forward from the local host to\n",
    "the relevant Kubernetes head service e.g.\n",
    "kubectl -n ray port-forward service/example-cluster-ray-head 10001:10001.\n",
    "\n",
    "Set the constant LOCAL_PORT below to the local port being forwarded.\n",
    "\"\"\"\n",
    "LOCAL_PORT = 10001\n",
    "HEAD_IP=\"192.168.122.10\"\n",
    "\n",
    "@ray.remote\n",
    "def gethostname(x):\n",
    "    import platform\n",
    "    import time\n",
    "    time.sleep(0.01)\n",
    "    return x + (platform.node(), )\n",
    "\n",
    "\n",
    "def wait_for_nodes(expected):\n",
    "    # Wait for all nodes to join the cluster.\n",
    "    while True:\n",
    "        resources = ray.cluster_resources()\n",
    "        node_keys = [key for key in resources if \"node\" in key]\n",
    "        num_nodes = sum(resources[node_key] for node_key in node_keys)\n",
    "        if num_nodes < expected:\n",
    "            print(\"{} nodes have joined so far, waiting for {} more.\".format(\n",
    "                num_nodes, expected - num_nodes))\n",
    "            sys.stdout.flush()\n",
    "            time.sleep(1)\n",
    "        else:\n",
    "            break\n",
    "\n",
    "\n",
    "def main():\n",
    "    wait_for_nodes(2)\n",
    "\n",
    "    # Check that objects can be transferred from each node to each other node.\n",
    "    for i in range(10):\n",
    "        print(\"Iteration {}\".format(i))\n",
    "        results = [\n",
    "            gethostname.remote(gethostname.remote(())) for _ in range(100)\n",
    "        ]\n",
    "        print(Counter(ray.get(results)))\n",
    "        sys.stdout.flush()\n",
    "\n",
    "    print(\"Success!\")\n",
    "    sys.stdout.flush()\n",
    "\n",
    "\n",
    "if __name__ == \"__main__\":\n",
    "    ray.init(f\"ray://192.168.122.10:{LOCAL_PORT}\")\n",
    "    main()"
   ]
  }
 ],
 "metadata": {
  "kernelspec": {
   "display_name": "3.10.14",
   "language": "python",
   "name": "python3"
  },
  "language_info": {
   "codemirror_mode": {
    "name": "ipython",
    "version": 3
   },
   "file_extension": ".py",
   "mimetype": "text/x-python",
   "name": "python",
   "nbconvert_exporter": "python",
   "pygments_lexer": "ipython3",
   "version": "3.10.14"
  }
 },
 "nbformat": 4,
 "nbformat_minor": 2
}
